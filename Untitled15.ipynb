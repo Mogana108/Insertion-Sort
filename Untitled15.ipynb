{
  "nbformat": 4,
  "nbformat_minor": 0,
  "metadata": {
    "colab": {
      "name": "Untitled15.ipynb",
      "provenance": []
    },
    "kernelspec": {
      "name": "python3",
      "display_name": "Python 3"
    },
    "language_info": {
      "name": "python"
    }
  },
  "cells": [
    {
      "cell_type": "code",
      "execution_count": null,
      "metadata": {
        "id": "-4gtz8i1bDFx"
      },
      "outputs": [],
      "source": [
        "def insertion_sort(list1):  \n",
        "  \n",
        "        # Outer loop to traverse through 1 to len(list1)  \n",
        "        for i in range(1, len(list1)):  \n",
        "  \n",
        "            value = list1[i]  \n",
        "  \n",
        "            # Move elements of list1[0..i-1], that are  \n",
        "            # greater than value, to one position ahead  \n",
        "            # of their current position  \n",
        "            j = i - 1  \n",
        "            while j >= 0 and value < list1[j]:  \n",
        "                list1[j + 1] = list1[j]  \n",
        "                j -= 1  \n",
        "            list1[j + 1] = value  \n",
        "        return list1  \n",
        "            # Driver code to test above  \n",
        "  \n",
        "list1 = [10, 5, 13, 8, 2]  \n",
        "print(\"The unsorted list is:\", list1)  \n",
        "  \n",
        "print(\"The sorted list1 is:\", insertion_sort(list1))"
      ]
    }
  ]
}